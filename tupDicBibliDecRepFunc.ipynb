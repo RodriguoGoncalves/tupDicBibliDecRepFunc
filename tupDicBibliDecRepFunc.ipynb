{
  "nbformat": 4,
  "nbformat_minor": 0,
  "metadata": {
    "colab": {
      "name": "tupDicBibliDecRepFunc",
      "provenance": [],
      "collapsed_sections": [
        "0uvvKTRowg_w"
      ],
      "authorship_tag": "ABX9TyN8ffStlJGe1XFQQOfjkDj0",
      "include_colab_link": true
    },
    "kernelspec": {
      "name": "python3",
      "display_name": "Python 3"
    },
    "language_info": {
      "name": "python"
    }
  },
  "cells": [
    {
      "cell_type": "markdown",
      "metadata": {
        "id": "view-in-github",
        "colab_type": "text"
      },
      "source": [
        "<a href=\"https://colab.research.google.com/github/RodriguoGoncalves/tupDicBibliDecRepFunc/blob/main/tupDicBibliDecRepFunc.ipynb\" target=\"_parent\"><img src=\"https://colab.research.google.com/assets/colab-badge.svg\" alt=\"Open In Colab\"/></a>"
      ]
    },
    {
      "cell_type": "markdown",
      "source": [
        "# ***Tuplas, Dicionários, Bibliotecas, Estrutura de Decisão, Estrutura de Repetição e Funções***\n"
      ],
      "metadata": {
        "id": "xc9RgadGqire"
      }
    },
    {
      "cell_type": "markdown",
      "source": [
        "># **TUPLA**\n",
        "\n",
        "Tupla, assim como a Lista, é um conjunto sequencial de valores, onde cada valor é identificado através de um índice. A principal diferença entre elas é que as ***tuplas são imutáveis***, ou seja, seus\n",
        "***elementos não podem ser alterados***.<br>\n",
        "Dentre as utilidades das tuplas, destacam-se as operações de empacotamento e desempacotamento\n",
        "de valores.\n",
        "Uma tupla em Python é declarada da seguinte forma:\n",
        "\n",
        "\n",
        "```\n",
        "# Nome_tupla = (valor1, valor2, ..., valorN)\n",
        "```\n",
        "\n",
        "\n"
      ],
      "metadata": {
        "id": "0uvvKTRowg_w"
      }
    },
    {
      "cell_type": "code",
      "source": [
        "Lista = [5,5,3]\n",
        "Lista.pop()\n",
        "print(\"Repare que na lista, conseguimos alterar(neste caso realizamos a exclusão)de um elemento(elemento 3 no index 2):\",Lista)# repare que na lista, conseguimos alterar(neste caso realizamos a exclusão)de um elemento(elemento 3 no index 2)"
      ],
      "metadata": {
        "colab": {
          "base_uri": "https://localhost:8080/"
        },
        "id": "u56D6Gc_Biov",
        "outputId": "9734591e-7bd9-4157-fc17-307761ff5e55"
      },
      "execution_count": null,
      "outputs": [
        {
          "output_type": "stream",
          "name": "stdout",
          "text": [
            "Repare que na lista, conseguimos alterar(neste caso realizamos a exclusão)de um elemento(elemento 3 no index 2): [5, 5]\n"
          ]
        }
      ]
    },
    {
      "cell_type": "code",
      "source": [
        "Lista = [5,5,3]\n",
        "Lista[0] = 1\n",
        "print(\"Repare que na lista, conseguimos alterar(neste caso realizamos a inclusao)de um elemento(elemento 1 no index 0):\",Lista)# repare que na lista, conseguimos alterar(neste caso realizamos a inclusao)de um elemento(elemento 1 no index 0)"
      ],
      "metadata": {
        "colab": {
          "base_uri": "https://localhost:8080/"
        },
        "id": "VioN561DCrRd",
        "outputId": "d566af84-0a38-49cf-9c96-fda8b0618957"
      },
      "execution_count": null,
      "outputs": [
        {
          "output_type": "stream",
          "name": "stdout",
          "text": [
            "Repare que na lista, conseguimos alterar(neste caso realizamos a inclusao)de um elemento(elemento 1 no index 0): [1, 5, 3]\n"
          ]
        }
      ]
    },
    {
      "cell_type": "code",
      "source": [
        "tupla = (1, 2, 3, 4, 5) # Repare que na Tupla, NÃO conseguimos alterar(neste caso TENTAMOS realizamos a inclusao)de um elemento(elemento 1 no index 0)\n",
        "tupla[0] = 1"
      ],
      "metadata": {
        "colab": {
          "base_uri": "https://localhost:8080/",
          "height": 182
        },
        "id": "jpduGcgaDCo0",
        "outputId": "9fa506b6-9705-487c-cd45-bb1241f890c3"
      },
      "execution_count": null,
      "outputs": [
        {
          "output_type": "error",
          "ename": "TypeError",
          "evalue": "ignored",
          "traceback": [
            "\u001b[0;31m---------------------------------------------------------------------------\u001b[0m",
            "\u001b[0;31mTypeError\u001b[0m                                 Traceback (most recent call last)",
            "\u001b[0;32m<ipython-input-3-ca49992eccde>\u001b[0m in \u001b[0;36m<module>\u001b[0;34m()\u001b[0m\n\u001b[1;32m      1\u001b[0m \u001b[0mtupla\u001b[0m \u001b[0;34m=\u001b[0m \u001b[0;34m(\u001b[0m\u001b[0;36m1\u001b[0m\u001b[0;34m,\u001b[0m \u001b[0;36m2\u001b[0m\u001b[0;34m,\u001b[0m \u001b[0;36m3\u001b[0m\u001b[0;34m,\u001b[0m \u001b[0;36m4\u001b[0m\u001b[0;34m,\u001b[0m \u001b[0;36m5\u001b[0m\u001b[0;34m)\u001b[0m \u001b[0;31m# Repare que na Tupla, NÃO conseguimos alterar(neste caso TENTAMOS realizamos a inclusao)de um elemento(elemento 1 no index 0)\u001b[0m\u001b[0;34m\u001b[0m\u001b[0;34m\u001b[0m\u001b[0m\n\u001b[0;32m----> 2\u001b[0;31m \u001b[0mtupla\u001b[0m\u001b[0;34m[\u001b[0m\u001b[0;36m0\u001b[0m\u001b[0;34m]\u001b[0m \u001b[0;34m=\u001b[0m \u001b[0;36m1\u001b[0m\u001b[0;34m\u001b[0m\u001b[0;34m\u001b[0m\u001b[0m\n\u001b[0m",
            "\u001b[0;31mTypeError\u001b[0m: 'tuple' object does not support item assignment"
          ]
        }
      ]
    },
    {
      "cell_type": "code",
      "source": [
        "tupla = (1, 2, 3, 4, 5)\n",
        "\n",
        "\n",
        "a, b, c, d, e = tupla\n",
        "\n",
        "print(\"Uma ferramenta muito utilizada em tuplas é o desempacotamento, que permite atribuir os elementos armazenados em uma tupla a diversas variáveis. Neste caso o a se refere a 1>>>\",a)"
      ],
      "metadata": {
        "id": "N3fUNRynLZ4R"
      },
      "execution_count": null,
      "outputs": []
    },
    {
      "cell_type": "code",
      "source": [
        "T = (10,20,30,40,50)\n",
        "a,b,c,d,e = T\n",
        "print(\"a=\",a,\"b=\",b)"
      ],
      "metadata": {
        "id": "TOvYd8zwEbtu"
      },
      "execution_count": null,
      "outputs": []
    },
    {
      "cell_type": "code",
      "source": [
        "print(\"d+e=\",d+e)"
      ],
      "metadata": {
        "id": "hXsLq3lREgSs"
      },
      "execution_count": null,
      "outputs": []
    },
    {
      "cell_type": "markdown",
      "source": [
        "> # **DICIONÁRIOS**\n",
        "\n",
        "Dicionário é um conjunto de valores, onde cada valor é associado a uma chave de acesso.<br>\n",
        "Um dicionário em Python é declarado da seguinte forma:<br>\n",
        "\n",
        "\n",
        "```\n",
        "# Nome_dicionario = { chave1 : valor1,\n",
        "chave2 : valor2,\n",
        "chave3 : valor3,\n",
        " ......\n",
        "chaveN : valorN}\n",
        "```\n",
        "\n"
      ],
      "metadata": {
        "id": "yjvZHZ2_EtN0"
      }
    },
    {
      "cell_type": "code",
      "source": [
        "D={\"arroz\": 17.30, \"feijão\":12.50,\"carne\":23.90,\"alface\":3.40}\n",
        "print(D)\n"
      ],
      "metadata": {
        "colab": {
          "base_uri": "https://localhost:8080/"
        },
        "id": "zvA10j9lFdnM",
        "outputId": "e49d352c-86a2-4713-a3a7-d0e5f2169c33"
      },
      "execution_count": null,
      "outputs": [
        {
          "output_type": "stream",
          "name": "stdout",
          "text": [
            "{'arroz': 17.3, 'feijão': 12.5, 'carne': 23.9, 'alface': 3.4}\n"
          ]
        }
      ]
    },
    {
      "cell_type": "code",
      "source": [
        "D={\"arroz\": 17.30, \"feijão\":12.50,\"carne\":23.90,\"alface\":3.40}\n",
        "D[\"arroz\"]"
      ],
      "metadata": {
        "colab": {
          "base_uri": "https://localhost:8080/"
        },
        "id": "-lZKpHcnFoNa",
        "outputId": "332aca3c-e1a3-40d7-e8f5-4b395c8c787c"
      },
      "execution_count": null,
      "outputs": [
        {
          "output_type": "execute_result",
          "data": {
            "text/plain": [
              "17.3"
            ]
          },
          "metadata": {},
          "execution_count": 9
        }
      ]
    },
    {
      "cell_type": "code",
      "source": [
        "            # Buscando um item que nao existe no dicionário\n",
        "print(D[\"Batata\"])"
      ],
      "metadata": {
        "colab": {
          "base_uri": "https://localhost:8080/",
          "height": 182
        },
        "id": "czXeeqOgGNko",
        "outputId": "db050bf7-56c4-4c9a-a4f5-19abb8cf26b6"
      },
      "execution_count": null,
      "outputs": [
        {
          "output_type": "error",
          "ename": "KeyError",
          "evalue": "ignored",
          "traceback": [
            "\u001b[0;31m---------------------------------------------------------------------------\u001b[0m",
            "\u001b[0;31mKeyError\u001b[0m                                  Traceback (most recent call last)",
            "\u001b[0;32m<ipython-input-10-df1e86e24f1c>\u001b[0m in \u001b[0;36m<module>\u001b[0;34m()\u001b[0m\n\u001b[1;32m      1\u001b[0m \u001b[0;31m# Buscando um item que nao existe no dicionário\u001b[0m\u001b[0;34m\u001b[0m\u001b[0;34m\u001b[0m\u001b[0;34m\u001b[0m\u001b[0m\n\u001b[0;32m----> 2\u001b[0;31m \u001b[0mprint\u001b[0m\u001b[0;34m(\u001b[0m\u001b[0mD\u001b[0m\u001b[0;34m[\u001b[0m\u001b[0;34m\"Batata\"\u001b[0m\u001b[0;34m]\u001b[0m\u001b[0;34m)\u001b[0m\u001b[0;34m\u001b[0m\u001b[0;34m\u001b[0m\u001b[0m\n\u001b[0m",
            "\u001b[0;31mKeyError\u001b[0m: 'Batata'"
          ]
        }
      ]
    },
    {
      "cell_type": "code",
      "source": [
        "            #É possível acrescentar ou modificar valores no dicionário:\n",
        "D[\"carne\"]=25.0\n",
        "D[\"tomate\"]=8.80\n",
        "print(D)#Os valores do dicionário não possuem ordem, por isso a ordem de impressão dos valores não é sempre a mesma.\n"
      ],
      "metadata": {
        "id": "Ea2J9-q8Gk5c"
      },
      "execution_count": null,
      "outputs": []
    },
    {
      "cell_type": "markdown",
      "source": [
        "***Operações em dicionários***\n",
        "\n"
      ],
      "metadata": {
        "id": "XJSDUTdHHIr6"
      }
    },
    {
      "cell_type": "code",
      "source": [
        "            #del\n",
        "del D[\"feijão\"]\n",
        "print(f\"Exclui um item informando a chave {D}\")"
      ],
      "metadata": {
        "id": "j4GzfwJpHPcU"
      },
      "execution_count": null,
      "outputs": []
    },
    {
      "cell_type": "code",
      "source": [
        "            #in >>> Verificar se uma chave existe no dicionário\n",
        "\"batata\" in D"
      ],
      "metadata": {
        "id": "58gmNqBmI2Bh"
      },
      "execution_count": null,
      "outputs": []
    },
    {
      "cell_type": "code",
      "source": [
        "\"alface\" in D"
      ],
      "metadata": {
        "id": "OZZoNNguJJgd"
      },
      "execution_count": null,
      "outputs": []
    },
    {
      "cell_type": "code",
      "source": [
        "            #keys() >>> Obtém as chaves de um dicionário.\n",
        "\n",
        "D.keys()"
      ],
      "metadata": {
        "id": "WFcRjWnAJSvv"
      },
      "execution_count": null,
      "outputs": []
    },
    {
      "cell_type": "code",
      "source": [
        "            #values() >>> Obtém os valores de um dicionário.\n",
        "\n",
        "D.values()"
      ],
      "metadata": {
        "id": "Kr9d41fyJftC"
      },
      "execution_count": null,
      "outputs": []
    },
    {
      "cell_type": "code",
      "source": [
        "            #Os dicionários podem ter valores de diferentes tipos.\n",
        "Dx ={2:\"carro\", 3:[4,5,6], 7:('a','b'), 4: 173.8}\n",
        "print(f'Os dicionários podem ter valores de diferentes tipos: {Dx[7]}')\n"
      ],
      "metadata": {
        "id": "IK7uAnTSJsw4"
      },
      "execution_count": null,
      "outputs": []
    },
    {
      "cell_type": "markdown",
      "source": [
        "**DESAFIO PARTE 1**\n",
        "\n",
        "\n"
      ],
      "metadata": {
        "id": "ONNmLWvhKT4y"
      }
    },
    {
      "cell_type": "markdown",
      "source": [
        "![3eae3ead-456c-41a3-8b68-e964c694e188.jpg](data:image/jpeg;base64,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)\n"
      ],
      "metadata": {
        "id": "59FVp02pKUFO"
      }
    },
    {
      "cell_type": "code",
      "source": [
        "                                    #1\n",
        "d = {\"Salgado\": 4.50, \"lanche\": 6.50, \"suco\": 3.00, \"refrigerante\": 3.50, \"doce\": 1.00}\n",
        "print(d)"
      ],
      "metadata": {
        "id": "ugKpQ9XINQf2",
        "colab": {
          "base_uri": "https://localhost:8080/"
        },
        "outputId": "26e98f2e-e1a1-4489-8f1a-e4cc50438336"
      },
      "execution_count": null,
      "outputs": [
        {
          "output_type": "stream",
          "name": "stdout",
          "text": [
            "{'Salgado': 4.5, 'lanche': 6.5, 'suco': 3.0, 'refrigerante': 3.5, 'doce': 1.0}\n"
          ]
        }
      ]
    },
    {
      "cell_type": "code",
      "source": [
        "                                    #2\n",
        "alunos = {\"Joao\": 5.6, \"Maria\":10.8,\"Rodrigo\":4.2, \"Mariana\":3.8, \"Alessandra\":7.8 }\n",
        "\n",
        "notas=alunos.values()\n",
        "med = sum(notas)/5\n",
        "print(\"A média é: \",med)"
      ],
      "metadata": {
        "id": "4dVH83AVQmhS"
      },
      "execution_count": null,
      "outputs": []
    },
    {
      "cell_type": "markdown",
      "source": [
        "> # **BIBLIOTECAS**\n",
        "\n",
        "As bibliotecas armazenam funções pré-definidas, que podem ser utilizados em qualquer momento\n",
        "do programa.<br> Em Python, muitas bibliotecas são instaladas por padrão junto com o programa. Para\n",
        "usar uma biblioteca, deve-se utilizar o comando import: \n",
        "\n",
        "**Exemplo: importar a biblioteca de funções matemáticas:**<br>\n",
        "\n",
        "\n",
        "```\n",
        " import math\n",
        " print(math.factorial(6))\n",
        "```\n",
        "Pode-se importar uma função específica da biblioteca:\n",
        "\n",
        "\n",
        "\n",
        "```\n",
        "from math import factorial\n",
        "print(factorial(6))\n",
        "```\n",
        "Algumas das bibliotecas padrão de Python.\n",
        "\n",
        "![image.png](data:image/png;base64,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)\n",
        "\n",
        "\n",
        "Além das bibliotecas padrão, existem também outras bibliotecas externas de alto nível disponíveis\n",
        "para Python.<BR>A tabela a seguir mostra algumas dessas bibliotecas.\n",
        "\n",
        "\n",
        "![image.png](data:image/png;base64,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)\n",
        "\n",
        "\n"
      ],
      "metadata": {
        "id": "qLaESJ5_KsnY"
      }
    },
    {
      "cell_type": "code",
      "source": [
        "import math\n",
        "import datetime"
      ],
      "metadata": {
        "id": "uZUs7CN8zJT-"
      },
      "execution_count": null,
      "outputs": []
    },
    {
      "cell_type": "code",
      "source": [
        "fatorial_6 = math.factorial(6)\n",
        "print(fatorial_6)"
      ],
      "metadata": {
        "colab": {
          "base_uri": "https://localhost:8080/"
        },
        "id": "RgUBp5pAzDGq",
        "outputId": "5cea16fb-e387-494d-a232-201044fe395b"
      },
      "execution_count": null,
      "outputs": [
        {
          "output_type": "stream",
          "name": "stdout",
          "text": [
            "720\n"
          ]
        }
      ]
    },
    {
      "cell_type": "code",
      "source": [
        "from datetime import date as rodrigo\n",
        "rodrigo.today()"
      ],
      "metadata": {
        "colab": {
          "base_uri": "https://localhost:8080/"
        },
        "id": "iEXPWtJazNWv",
        "outputId": "a887c07a-a303-49f6-cf77-41ed596db8c2"
      },
      "execution_count": null,
      "outputs": [
        {
          "output_type": "execute_result",
          "data": {
            "text/plain": [
              "datetime.date(2022, 7, 17)"
            ]
          },
          "metadata": {},
          "execution_count": 18
        }
      ]
    },
    {
      "cell_type": "markdown",
      "source": [
        "> # **ESTRUTURAS DE DECISÃO**\n",
        "\n",
        "As estruturas de decisão permitem alterar o curso do fluxo de execução de um programa, de acordo com o valor (Verdadeiro/Falso) de um teste lógico.<br>Em Python temos as seguintes estruturas de decisão:<br><br>\n",
        "**if** (se)<br>\n",
        "**if..else** (se..senão)<br>\n",
        "**if..elif..else** (se..senão..senão se)<br><br>\n",
        "\n"
      ],
      "metadata": {
        "id": "VxyIfJIwLsH_"
      }
    },
    {
      "cell_type": "markdown",
      "source": [
        "## **Estrutura if**\n",
        "\n",
        "O comando if é utilizado quando precisamos decidir se um trecho do programa deve ou não ser executado. Ele é associado a uma condição, e o trecho de código será executado se o valor da condição for verdadeiro.<br><br>\n",
        "Sintaxe:<br>\n",
        "\n",
        "    if <condição>:\n",
        "            <Bloco de comandos>:\n",
        "\n",
        "\n"
      ],
      "metadata": {
        "id": "x_t2W-4_Ncp-"
      }
    },
    {
      "cell_type": "code",
      "source": [
        "                    #Exemplo1\n",
        "valor = int(input(\"qual sua idade?  \"))\n",
        "if valor < 18:\n",
        "  print(\"Voce ainda nao pode dirigir  \")"
      ],
      "metadata": {
        "colab": {
          "base_uri": "https://localhost:8080/"
        },
        "id": "DQZHAnNvNbRn",
        "outputId": "39136472-e7c2-4378-9f23-4c11c5c2cc19"
      },
      "execution_count": null,
      "outputs": [
        {
          "output_type": "stream",
          "name": "stdout",
          "text": [
            "qual sua idade?  15\n",
            "Voce aidna nao pode dirigir  \n"
          ]
        }
      ]
    },
    {
      "cell_type": "code",
      "source": [
        "                    #Exemplo2\n",
        "if True:\n",
        "  print(\"olá\")"
      ],
      "metadata": {
        "colab": {
          "base_uri": "https://localhost:8080/"
        },
        "id": "kcfOwsqszQ9z",
        "outputId": "c44389bb-c659-4cb8-beee-b69162c77df7"
      },
      "execution_count": null,
      "outputs": [
        {
          "output_type": "stream",
          "name": "stdout",
          "text": [
            "olá\n"
          ]
        }
      ]
    },
    {
      "cell_type": "code",
      "source": [
        "                    #Exemplo3\n",
        "#is ou == são a mesma coisa\n",
        "idade = 18\n",
        "\n",
        "if idade is 18:\n",
        "  print(\"pode entrar\") \n",
        "\n",
        "if idade == 18:\n",
        "  print(\"pode entrar\")"
      ],
      "metadata": {
        "id": "IUmTAnEXzXMo"
      },
      "execution_count": null,
      "outputs": []
    },
    {
      "cell_type": "markdown",
      "source": [
        "## **Estrutura if..else**\n",
        "\n",
        "Nesta estrutura, um trecho de código será executado se a condição for verdadeira e outro se a condição for falsa.<br>\n",
        "Sintaxe:\n",
        "\n",
        "```\n",
        "    if <condição>:\n",
        "            <Bloco de comandos para condição verdadeira>:\n",
        "    else :\n",
        "            <Bloco de comandos para condição falsa>\n",
        "```"
      ],
      "metadata": {
        "id": "yRT7DSA0raKq"
      }
    },
    {
      "cell_type": "code",
      "source": [
        "                    #Exemplo1\n",
        "valor = int(input(\"Qual sua idade?  \"))\n",
        "if valor < 18:\n",
        "  print(\"Voce ainda nao pode dirigir  \")\n",
        "else:\n",
        "    print(\" Vrumm. Tome aqui seu Honda Civic\")"
      ],
      "metadata": {
        "colab": {
          "base_uri": "https://localhost:8080/"
        },
        "id": "LXUU0qG4rZqM",
        "outputId": "26d5de1d-3e13-48fb-cc16-dbd84c8834c5"
      },
      "execution_count": null,
      "outputs": [
        {
          "output_type": "stream",
          "name": "stdout",
          "text": [
            "Qual sua idade?  50\n",
            " Vrumm. Tome aqui seu Honda Civic\n"
          ]
        }
      ]
    },
    {
      "cell_type": "code",
      "source": [
        "          #Exemplo2\n",
        "idade = 18\n",
        "\n",
        "if idade >= 18:\n",
        "  print('pode entrar')\n",
        "else:\n",
        "  print(\"Não pode entrar\")"
      ],
      "metadata": {
        "colab": {
          "base_uri": "https://localhost:8080/"
        },
        "id": "qLfI1iRoznbN",
        "outputId": "3663f811-c6ba-4d64-8c5a-8b1bc1da0775"
      },
      "execution_count": null,
      "outputs": [
        {
          "output_type": "stream",
          "name": "stdout",
          "text": [
            "pode entrar\n"
          ]
        }
      ]
    },
    {
      "cell_type": "code",
      "source": [
        "          #Exemplo3\n",
        "          # Usar um valor entre aspas(\"10\") para obter o IF e um numero(10) para obter o else\n",
        "nome = 10\n",
        "\n",
        "if type(nome) is str:\n",
        "  print(\"isso é uma string\")\n",
        "else:\n",
        "  print(\"o tipe é\", type(nome))"
      ],
      "metadata": {
        "colab": {
          "base_uri": "https://localhost:8080/"
        },
        "id": "rGqnp1TDz8xg",
        "outputId": "6da5800a-6ebb-4a76-b9fa-f92189dad9ba"
      },
      "execution_count": null,
      "outputs": [
        {
          "output_type": "stream",
          "name": "stdout",
          "text": [
            "o tipe é <class 'int'>\n"
          ]
        }
      ]
    },
    {
      "cell_type": "markdown",
      "source": [
        "## **Estrutura  if..elif..else**\n",
        "\n",
        "Se houver diversas condições, cada uma associada a um trecho de código, utiliza-se o elif.<br><br>\n",
        "Sintaxe:\n",
        "\n",
        "\n",
        "\n",
        "```\n",
        "if <condição1> :\n",
        "     <Bloco de comandos 1>\n",
        "elif <condição2> :\n",
        "     <Bloco de comandos 2>\n",
        "elif <condição3> :\n",
        "     <Bloco de comandos 3>\n",
        " :::::::::::::::::::::::::::::::::::::::::\n",
        "else :\n",
        "<Bloco de comandos default>\n",
        "```\n",
        "Somente o bloco de comandos associado à primeira condição verdadeira encontrada será executado.<br>\n",
        "Se nenhuma das condições tiver valor verdadeiro, executa o bloco de comandos default."
      ],
      "metadata": {
        "id": "f-r7dkOjtbkK"
      }
    },
    {
      "cell_type": "code",
      "source": [
        "                    #Exemplo1\n",
        "valor = int(input(\"Qual sua idade?  \"))\n",
        "if valor < 6:\n",
        "  print(\"Aproveite a infância!  \")\n",
        "elif valor < 18:\n",
        "   print(\"Voce ainda nao pode dirigir  \")\n",
        "elif valor > 60:\n",
        "   print(\"Meta de vida, você conseguiu um porshe!\") \n",
        "     \n",
        "else:\n",
        "    print(\" Vrumm. Tome aqui seu Honda Civic mas você vai ter tempo de ter um Porshe\")"
      ],
      "metadata": {
        "colab": {
          "base_uri": "https://localhost:8080/"
        },
        "id": "N7cg7qkMtcRl",
        "outputId": "5cae273d-a0e1-45ff-9595-d116dbc67ca0"
      },
      "execution_count": null,
      "outputs": [
        {
          "output_type": "stream",
          "name": "stdout",
          "text": [
            "Qual sua idade?  20\n",
            " Vrumm. Tome aqui seu Honda Civic mas você vai ter tempo de ter um Porshe\n"
          ]
        }
      ]
    },
    {
      "cell_type": "code",
      "source": [
        "          #Exemplo2\n",
        "idade = 15\n",
        "\n",
        "if idade >= 18:\n",
        "  print(\"pode entrar\")\n",
        "elif idade < 18 and idade >= 16:\n",
        "  print(\"pode entrar com os pais\")\n",
        "else:\n",
        "  print(\"não pode entrar\")"
      ],
      "metadata": {
        "id": "MwZtTbViokuW"
      },
      "execution_count": null,
      "outputs": []
    },
    {
      "cell_type": "markdown",
      "source": [
        "DESAFIO PARTE 2"
      ],
      "metadata": {
        "id": "GEfB2FyPLf5_"
      }
    },
    {
      "cell_type": "markdown",
      "source": [
        "![02.jpg](data:image/jpeg;base64,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)"
      ],
      "metadata": {
        "id": "k_aghHAiLVy-"
      }
    },
    {
      "cell_type": "code",
      "source": [
        "                                    #1\n",
        "nota1 = float(input(\"Insira a Primeira Nota: \"))\n",
        "nota2 = float(input(\"Insira a Segunda Nota: \"))\n",
        "med = (nota1+nota2)/2\n",
        "print(\"Med = \",med)\n",
        "if med >= 6:\n",
        " print (\"aprovado\")\n",
        "else:\n",
        " print (\"reprovado\")"
      ],
      "metadata": {
        "colab": {
          "base_uri": "https://localhost:8080/"
        },
        "id": "jJHuO2vfiee1",
        "outputId": "813d9eb4-2f1a-462e-ec1e-b034fbb5cd0a"
      },
      "execution_count": null,
      "outputs": [
        {
          "output_type": "stream",
          "name": "stdout",
          "text": [
            "Insira a Primeira Nota: 50\n",
            "Insira a Segunda Nota: 50\n",
            "Med =  50.0\n",
            "aprovado\n"
          ]
        }
      ]
    },
    {
      "cell_type": "code",
      "source": [
        "                                    #2\n",
        "nota1 = float(input(\"Insira a Primeira Nota: \"))\n",
        "nota2 = float(input(\"Insira a Segunda Nota: \"))\n",
        "med = (nota1+nota2)/2\n",
        "print(\"Med = \",med)\n",
        "if med > 6:\n",
        " print (\"aprovado\")\n",
        "elif med >=4:\n",
        " print (\"exame\")\n",
        "else:\n",
        " print (\"reprovado\")"
      ],
      "metadata": {
        "colab": {
          "base_uri": "https://localhost:8080/"
        },
        "id": "2LwKjm9Siu-7",
        "outputId": "13e36a44-13e4-47cd-f129-14054f657d4b"
      },
      "execution_count": null,
      "outputs": [
        {
          "output_type": "stream",
          "name": "stdout",
          "text": [
            "Insira a Primeira Nota: 4\n",
            "Insira a Segunda Nota: 6\n",
            "Med =  5.0\n",
            "exame\n"
          ]
        }
      ]
    },
    {
      "cell_type": "markdown",
      "source": [
        "> # **ESTRUTURAS DE REPETIÇÃO**\n",
        "\n",
        "A Estrutura de repetição é utilizada para executar uma mesma sequência de comandos várias vezes.<br>\n",
        "A repetição está associada ou a uma condição, que indica se deve continuar ou não a repetição, ou auma sequência de valores, que determina quantas vezes a sequência deve ser repetida.<br> As estruturas\n",
        "de repetição são conhecidas também como laços ***(loops)***.\n",
        "<br><br>\n",
        "1.   Laço while\n",
        "2.   Laço for\n",
        "\n",
        "\n"
      ],
      "metadata": {
        "id": "lmevdruPwRq8"
      }
    },
    {
      "cell_type": "markdown",
      "source": [
        "## **Laço while**\n",
        "\n",
        "No laço while, o trecho de código da repetição está associado a uma condição.<br> Enquanto a condição tiver valor verdadeiro, o trecho é executado.<br> Quando a condição passa a ter valor falso, a repetição\n",
        "termina.<br><br>\n",
        "Sintaxe:\n",
        "\n",
        "```\n",
        "if <condição> :\n",
        "     <Bloco de comandos>\n",
        "```\n",
        "Somente o bloco de comandos associado à primeira condição verdadeira encontrada será executado.<br>\n",
        "Se nenhuma das condições tiver valor verdadeiro, executa o bloco de comandos default."
      ],
      "metadata": {
        "id": "-AFOc7TRwxNN"
      }
    },
    {
      "cell_type": "code",
      "source": [
        "                      #Exemplo1\n",
        "senha = \"1234\"\n",
        "valor = \"\"\n",
        "\n",
        "while(senha != valor):\n",
        "  valor = input(\"Qual a sua senha? \")\n",
        "\n",
        "  if senha == valor:\n",
        "    print(\"você acertou\")\n",
        "  else:\n",
        "    print(\"você errou\")"
      ],
      "metadata": {
        "id": "kB35cfw4kAN5",
        "colab": {
          "base_uri": "https://localhost:8080/"
        },
        "outputId": "1b933759-ba6e-4803-dbd0-15726db26332"
      },
      "execution_count": null,
      "outputs": [
        {
          "output_type": "stream",
          "name": "stdout",
          "text": [
            "Qual a sua senha? 52\n",
            "você errou\n",
            "Qual a sua senha? 414\n",
            "você errou\n",
            "Qual a sua senha? \n",
            "você errou\n",
            "Qual a sua senha? 1234\n",
            "você acertou\n"
          ]
        }
      ]
    },
    {
      "cell_type": "code",
      "source": [
        "                                  #Exemplo2\n",
        "                            #Encontrar a soma de 5 valores\n",
        "contador = 0\n",
        "somador = 0\n",
        "while contador < 5:\n",
        " contador = contador + 1\n",
        " valor = float(input('Digite o '+str(contador)+'º valor: '))\n",
        " somador = somador + valor\n",
        "print('Soma = ', somador)\n"
      ],
      "metadata": {
        "colab": {
          "base_uri": "https://localhost:8080/"
        },
        "id": "7HCjwOqQ1cIM",
        "outputId": "57072dd8-15a8-41db-9478-e32fc8d3fb39"
      },
      "execution_count": null,
      "outputs": [
        {
          "output_type": "stream",
          "name": "stdout",
          "text": [
            "Digite o 1º valor: 50\n",
            "Digite o 2º valor: 50\n",
            "Digite o 3º valor: 50\n",
            "Digite o 4º valor: 50\n",
            "Digite o 5º valor: 50\n",
            "Soma =  250.0\n"
          ]
        }
      ]
    },
    {
      "cell_type": "markdown",
      "source": [
        "## **Laço For**\n",
        "\n",
        "O laço for é a estrutura de repetição mais utilizada em Python. <br>\n",
        "Pode ser utilizado com uma sequência numérica (gerada com o comando **range**) ou associado a uma lista. <br>\n",
        "O trecho de código da repetição é executado para cada valor da sequência numérica ou da lista. <br><br>\n",
        "Sintaxe:\n",
        "\n",
        "```\n",
        "for <variável> in range (início, limite, passo) :\n",
        "     <Bloco de comandos>\n",
        "```\n",
        "ou\n",
        "```\n",
        "for <variável> in <lista> :\n",
        "     <Bloco de comandos>\n",
        "```\n"
      ],
      "metadata": {
        "id": "kwizRsHG1NYy"
      }
    },
    {
      "cell_type": "code",
      "source": [
        "                                  #Exemplo1\n",
        "                      #Encontrar a soma S = 1+4+7+10+13+16+19\n",
        "S=0\n",
        "for x in range(1,20,3):\n",
        " S = S+x\n",
        "print('Soma = ',S)"
      ],
      "metadata": {
        "colab": {
          "base_uri": "https://localhost:8080/"
        },
        "id": "_GezvZUZ3Inn",
        "outputId": "c4bcec29-3ec2-4a74-9d65-f5ee57d56438"
      },
      "execution_count": null,
      "outputs": [
        {
          "output_type": "stream",
          "name": "stdout",
          "text": [
            "Soma =  70\n"
          ]
        }
      ]
    },
    {
      "cell_type": "markdown",
      "source": [
        "\n",
        "\n",
        "##  **DESAFIO PARTE 3**\n",
        "\n",
        "\n",
        "\n"
      ],
      "metadata": {
        "id": "xXXPfhRiLncf"
      }
    },
    {
      "cell_type": "markdown",
      "source": [
        "![3.jpg](data:image/jpeg;base64,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)"
      ],
      "metadata": {
        "id": "q3OXVcg1Lq1W"
      }
    },
    {
      "cell_type": "code",
      "source": [
        "                                    #1\n",
        "\n",
        "SOMA=0\n",
        "for x in range(3,334,3):\n",
        " SOMA=SOMA+x\n",
        "print(\"Soma = \",SOMA)"
      ],
      "metadata": {
        "colab": {
          "base_uri": "https://localhost:8080/"
        },
        "id": "POI80rV8K5sv",
        "outputId": "5933b0ff-8b77-439c-e342-7dbdf4d43084"
      },
      "execution_count": null,
      "outputs": [
        {
          "output_type": "stream",
          "name": "stdout",
          "text": [
            "Soma =  18648\n"
          ]
        }
      ]
    },
    {
      "cell_type": "code",
      "source": [
        "111011                                    #2\n",
        "Soma=0\n",
        "for cont in range(1,11):\n",
        " nota = float(input(\"Insira a nota \"+str(cont)+\": \"))\n",
        " Soma=Soma+nota\n",
        "print(\"Méd = \",Soma/10)"
      ],
      "metadata": {
        "colab": {
          "base_uri": "https://localhost:8080/"
        },
        "id": "_F-BFku1je4q",
        "outputId": "90b7254e-3113-4bf7-c75c-4d5d5e05fc80"
      },
      "execution_count": null,
      "outputs": [
        {
          "output_type": "stream",
          "name": "stdout",
          "text": [
            "Insira a nota 1: 10\n",
            "Insira a nota 2: 10\n",
            "Insira a nota 3: 10\n",
            "Insira a nota 4: 0\n",
            "Insira a nota 5: 0\n",
            "Insira a nota 6: 10\n",
            "Insira a nota 7: 10\n",
            "Insira a nota 8: 0\n",
            "Insira a nota 9: 111\n",
            "Insira a nota 10: 10\n",
            "Méd =  17.1\n"
          ]
        }
      ]
    },
    {
      "cell_type": "code",
      "source": [
        "                                    #3\n",
        "num = int(input(\"Insira o número da tabuada: \"))\n",
        "for seq in range(1,11):\n",
        " print(\"%2d x %2d = %3d\" %(seq,num,seq*num))"
      ],
      "metadata": {
        "colab": {
          "base_uri": "https://localhost:8080/",
          "height": 561
        },
        "id": "-_YCAC96jktK",
        "outputId": "d564a9f9-9cdb-448a-c531-d46e4d547ef4"
      },
      "execution_count": null,
      "outputs": [
        {
          "output_type": "error",
          "ename": "KeyboardInterrupt",
          "evalue": "ignored",
          "traceback": [
            "\u001b[0;31m---------------------------------------------------------------------------\u001b[0m",
            "\u001b[0;31mKeyboardInterrupt\u001b[0m                         Traceback (most recent call last)",
            "\u001b[0;32m/usr/local/lib/python3.7/dist-packages/ipykernel/kernelbase.py\u001b[0m in \u001b[0;36m_input_request\u001b[0;34m(self, prompt, ident, parent, password)\u001b[0m\n\u001b[1;32m    728\u001b[0m             \u001b[0;32mtry\u001b[0m\u001b[0;34m:\u001b[0m\u001b[0;34m\u001b[0m\u001b[0;34m\u001b[0m\u001b[0m\n\u001b[0;32m--> 729\u001b[0;31m                 \u001b[0mident\u001b[0m\u001b[0;34m,\u001b[0m \u001b[0mreply\u001b[0m \u001b[0;34m=\u001b[0m \u001b[0mself\u001b[0m\u001b[0;34m.\u001b[0m\u001b[0msession\u001b[0m\u001b[0;34m.\u001b[0m\u001b[0mrecv\u001b[0m\u001b[0;34m(\u001b[0m\u001b[0mself\u001b[0m\u001b[0;34m.\u001b[0m\u001b[0mstdin_socket\u001b[0m\u001b[0;34m,\u001b[0m \u001b[0;36m0\u001b[0m\u001b[0;34m)\u001b[0m\u001b[0;34m\u001b[0m\u001b[0;34m\u001b[0m\u001b[0m\n\u001b[0m\u001b[1;32m    730\u001b[0m             \u001b[0;32mexcept\u001b[0m \u001b[0mException\u001b[0m\u001b[0;34m:\u001b[0m\u001b[0;34m\u001b[0m\u001b[0;34m\u001b[0m\u001b[0m\n",
            "\u001b[0;32m/usr/local/lib/python3.7/dist-packages/jupyter_client/session.py\u001b[0m in \u001b[0;36mrecv\u001b[0;34m(self, socket, mode, content, copy)\u001b[0m\n\u001b[1;32m    802\u001b[0m         \u001b[0;32mtry\u001b[0m\u001b[0;34m:\u001b[0m\u001b[0;34m\u001b[0m\u001b[0;34m\u001b[0m\u001b[0m\n\u001b[0;32m--> 803\u001b[0;31m             \u001b[0mmsg_list\u001b[0m \u001b[0;34m=\u001b[0m \u001b[0msocket\u001b[0m\u001b[0;34m.\u001b[0m\u001b[0mrecv_multipart\u001b[0m\u001b[0;34m(\u001b[0m\u001b[0mmode\u001b[0m\u001b[0;34m,\u001b[0m \u001b[0mcopy\u001b[0m\u001b[0;34m=\u001b[0m\u001b[0mcopy\u001b[0m\u001b[0;34m)\u001b[0m\u001b[0;34m\u001b[0m\u001b[0;34m\u001b[0m\u001b[0m\n\u001b[0m\u001b[1;32m    804\u001b[0m         \u001b[0;32mexcept\u001b[0m \u001b[0mzmq\u001b[0m\u001b[0;34m.\u001b[0m\u001b[0mZMQError\u001b[0m \u001b[0;32mas\u001b[0m \u001b[0me\u001b[0m\u001b[0;34m:\u001b[0m\u001b[0;34m\u001b[0m\u001b[0;34m\u001b[0m\u001b[0m\n",
            "\u001b[0;32m/usr/local/lib/python3.7/dist-packages/zmq/sugar/socket.py\u001b[0m in \u001b[0;36mrecv_multipart\u001b[0;34m(self, flags, copy, track)\u001b[0m\n\u001b[1;32m    726\u001b[0m         \"\"\"\n\u001b[0;32m--> 727\u001b[0;31m         \u001b[0mparts\u001b[0m \u001b[0;34m=\u001b[0m \u001b[0;34m[\u001b[0m\u001b[0mself\u001b[0m\u001b[0;34m.\u001b[0m\u001b[0mrecv\u001b[0m\u001b[0;34m(\u001b[0m\u001b[0mflags\u001b[0m\u001b[0;34m,\u001b[0m \u001b[0mcopy\u001b[0m\u001b[0;34m=\u001b[0m\u001b[0mcopy\u001b[0m\u001b[0;34m,\u001b[0m \u001b[0mtrack\u001b[0m\u001b[0;34m=\u001b[0m\u001b[0mtrack\u001b[0m\u001b[0;34m)\u001b[0m\u001b[0;34m]\u001b[0m\u001b[0;34m\u001b[0m\u001b[0;34m\u001b[0m\u001b[0m\n\u001b[0m\u001b[1;32m    728\u001b[0m         \u001b[0;31m# have first part already, only loop while more to receive\u001b[0m\u001b[0;34m\u001b[0m\u001b[0;34m\u001b[0m\u001b[0;34m\u001b[0m\u001b[0m\n",
            "\u001b[0;32mzmq/backend/cython/socket.pyx\u001b[0m in \u001b[0;36mzmq.backend.cython.socket.Socket.recv\u001b[0;34m()\u001b[0m\n",
            "\u001b[0;32mzmq/backend/cython/socket.pyx\u001b[0m in \u001b[0;36mzmq.backend.cython.socket.Socket.recv\u001b[0;34m()\u001b[0m\n",
            "\u001b[0;32mzmq/backend/cython/socket.pyx\u001b[0m in \u001b[0;36mzmq.backend.cython.socket._recv_copy\u001b[0;34m()\u001b[0m\n",
            "\u001b[0;32m/usr/local/lib/python3.7/dist-packages/zmq/backend/cython/checkrc.pxd\u001b[0m in \u001b[0;36mzmq.backend.cython.checkrc._check_rc\u001b[0;34m()\u001b[0m\n",
            "\u001b[0;31mKeyboardInterrupt\u001b[0m: ",
            "\nDuring handling of the above exception, another exception occurred:\n",
            "\u001b[0;31mKeyboardInterrupt\u001b[0m                         Traceback (most recent call last)",
            "\u001b[0;32m<ipython-input-7-17944e6f76d8>\u001b[0m in \u001b[0;36m<module>\u001b[0;34m()\u001b[0m\n\u001b[0;32m----> 1\u001b[0;31m \u001b[0mnum\u001b[0m \u001b[0;34m=\u001b[0m \u001b[0mint\u001b[0m\u001b[0;34m(\u001b[0m\u001b[0minput\u001b[0m\u001b[0;34m(\u001b[0m\u001b[0;34m\"Insira o número da tabuada: \"\u001b[0m\u001b[0;34m)\u001b[0m\u001b[0;34m)\u001b[0m\u001b[0;34m\u001b[0m\u001b[0;34m\u001b[0m\u001b[0m\n\u001b[0m\u001b[1;32m      2\u001b[0m \u001b[0;32mfor\u001b[0m \u001b[0mseq\u001b[0m \u001b[0;32min\u001b[0m \u001b[0mrange\u001b[0m\u001b[0;34m(\u001b[0m\u001b[0;36m1\u001b[0m\u001b[0;34m,\u001b[0m\u001b[0;36m11\u001b[0m\u001b[0;34m)\u001b[0m\u001b[0;34m:\u001b[0m\u001b[0;34m\u001b[0m\u001b[0;34m\u001b[0m\u001b[0m\n\u001b[1;32m      3\u001b[0m  \u001b[0mprint\u001b[0m\u001b[0;34m(\u001b[0m\u001b[0;34m\"%2d x %2d = %3d\"\u001b[0m \u001b[0;34m%\u001b[0m\u001b[0;34m(\u001b[0m\u001b[0mseq\u001b[0m\u001b[0;34m,\u001b[0m\u001b[0mnum\u001b[0m\u001b[0;34m,\u001b[0m\u001b[0mseq\u001b[0m\u001b[0;34m*\u001b[0m\u001b[0mnum\u001b[0m\u001b[0;34m)\u001b[0m\u001b[0;34m)\u001b[0m\u001b[0;34m\u001b[0m\u001b[0;34m\u001b[0m\u001b[0m\n",
            "\u001b[0;32m/usr/local/lib/python3.7/dist-packages/ipykernel/kernelbase.py\u001b[0m in \u001b[0;36mraw_input\u001b[0;34m(self, prompt)\u001b[0m\n\u001b[1;32m    702\u001b[0m             \u001b[0mself\u001b[0m\u001b[0;34m.\u001b[0m\u001b[0m_parent_ident\u001b[0m\u001b[0;34m,\u001b[0m\u001b[0;34m\u001b[0m\u001b[0;34m\u001b[0m\u001b[0m\n\u001b[1;32m    703\u001b[0m             \u001b[0mself\u001b[0m\u001b[0;34m.\u001b[0m\u001b[0m_parent_header\u001b[0m\u001b[0;34m,\u001b[0m\u001b[0;34m\u001b[0m\u001b[0;34m\u001b[0m\u001b[0m\n\u001b[0;32m--> 704\u001b[0;31m             \u001b[0mpassword\u001b[0m\u001b[0;34m=\u001b[0m\u001b[0;32mFalse\u001b[0m\u001b[0;34m,\u001b[0m\u001b[0;34m\u001b[0m\u001b[0;34m\u001b[0m\u001b[0m\n\u001b[0m\u001b[1;32m    705\u001b[0m         )\n\u001b[1;32m    706\u001b[0m \u001b[0;34m\u001b[0m\u001b[0m\n",
            "\u001b[0;32m/usr/local/lib/python3.7/dist-packages/ipykernel/kernelbase.py\u001b[0m in \u001b[0;36m_input_request\u001b[0;34m(self, prompt, ident, parent, password)\u001b[0m\n\u001b[1;32m    732\u001b[0m             \u001b[0;32mexcept\u001b[0m \u001b[0mKeyboardInterrupt\u001b[0m\u001b[0;34m:\u001b[0m\u001b[0;34m\u001b[0m\u001b[0;34m\u001b[0m\u001b[0m\n\u001b[1;32m    733\u001b[0m                 \u001b[0;31m# re-raise KeyboardInterrupt, to truncate traceback\u001b[0m\u001b[0;34m\u001b[0m\u001b[0;34m\u001b[0m\u001b[0;34m\u001b[0m\u001b[0m\n\u001b[0;32m--> 734\u001b[0;31m                 \u001b[0;32mraise\u001b[0m \u001b[0mKeyboardInterrupt\u001b[0m\u001b[0;34m\u001b[0m\u001b[0;34m\u001b[0m\u001b[0m\n\u001b[0m\u001b[1;32m    735\u001b[0m             \u001b[0;32melse\u001b[0m\u001b[0;34m:\u001b[0m\u001b[0;34m\u001b[0m\u001b[0;34m\u001b[0m\u001b[0m\n\u001b[1;32m    736\u001b[0m                 \u001b[0;32mbreak\u001b[0m\u001b[0;34m\u001b[0m\u001b[0;34m\u001b[0m\u001b[0m\n",
            "\u001b[0;31mKeyboardInterrupt\u001b[0m: "
          ]
        }
      ]
    },
    {
      "cell_type": "markdown",
      "source": [
        "> # **FUNÇÕES**\n",
        "\n",
        "Funções são pequenos trechos de código reutilizáveis.<br> Elas permitem dar um nome a um bloco de comandos e executar esse bloco, a partir de qualquer lugar do programa.\n",
        "\n"
      ],
      "metadata": {
        "id": "XDQSyKm-ox01"
      }
    },
    {
      "cell_type": "markdown",
      "source": [
        "## **Como definir uma função**\n",
        "\n",
        "Funções são definidas usando a palavra-chave **def**, conforme sintaxe a seguir:\n",
        "```\n",
        "def <nome_função> (<definição dos parâmetros >) :\n",
        "          <Bloco de comandos da função>\n",
        "```\n",
        "**Obs.:** **A definição dos parâmetros é opcional.**\n",
        "\n",
        "1) Def: função reservada no python para dizer que iremos fazer uma função.\n",
        "2) Sempre que formos falar desta função, o termo técnico é dizer: vamos definir tal função"
      ],
      "metadata": {
        "id": "_mCpKEMBp2DV"
      }
    },
    {
      "cell_type": "code",
      "source": [
        "                                  #Exemplo1\n",
        "                      #Função simples\n",
        "def hello():# preciso dos parentes para caso haja algum parametro\n",
        " print (\"Olá Mundo!!!\") #Ao executar este código, não acontecerá nada, pois apenas definimos a função. Precismos efetuar a chamada"
      ],
      "metadata": {
        "id": "7QF-DVs8qT5O"
      },
      "execution_count": null,
      "outputs": []
    },
    {
      "cell_type": "code",
      "source": [
        "hello() #Chamamos a função"
      ],
      "metadata": {
        "id": "G8JxhHSetYXg"
      },
      "execution_count": null,
      "outputs": []
    },
    {
      "cell_type": "markdown",
      "source": [
        "## **Parâmetros e argumentos**\n",
        "\n",
        "***Parâmetros*** são as variáveis que podem ser incluídas nos parênteses das funções. Quando a função é chamada são passados valores para essas variáveis. Esses valores são chamados ***argumentos***. O corpo da função pode utilizar essas variáveis, cujos valores podem modificar o comportamento da função\n"
      ],
      "metadata": {
        "id": "GFbv3lstql2r"
      }
    },
    {
      "cell_type": "code",
      "source": [
        "                                  #Exemplo2\n",
        "                      #Função para imprimir o maior entre 2 valores\n",
        "def maior(x,y):#parametro é o que esta entre parentes\n",
        "  if x>y:\n",
        "    print(x)\n",
        "  else:\n",
        "    print(y)"
      ],
      "metadata": {
        "id": "doICiQBKrAZu"
      },
      "execution_count": null,
      "outputs": []
    },
    {
      "cell_type": "code",
      "source": [
        "maior() #Se eu chamar esta função da mesma forma que chamei a anterior, irá retornar um erro. Por quê? Porque preciso colocar os ARGUMENTOS."
      ],
      "metadata": {
        "colab": {
          "base_uri": "https://localhost:8080/",
          "height": 165
        },
        "id": "DZkvp8MUwFJX",
        "outputId": "e9350101-add1-460f-d371-722b11282185"
      },
      "execution_count": null,
      "outputs": [
        {
          "output_type": "error",
          "ename": "TypeError",
          "evalue": "ignored",
          "traceback": [
            "\u001b[0;31m---------------------------------------------------------------------------\u001b[0m",
            "\u001b[0;31mTypeError\u001b[0m                                 Traceback (most recent call last)",
            "\u001b[0;32m<ipython-input-16-951664341cbf>\u001b[0m in \u001b[0;36m<module>\u001b[0;34m()\u001b[0m\n\u001b[0;32m----> 1\u001b[0;31m \u001b[0mmaior\u001b[0m\u001b[0;34m(\u001b[0m\u001b[0;34m)\u001b[0m \u001b[0;31m#Se eu chamar esta função da mesma forma que chamei a anterior, irá retornar um erro. Por quê? Porque precisamos colocar os ARGUMENTOS.\u001b[0m\u001b[0;34m\u001b[0m\u001b[0;34m\u001b[0m\u001b[0m\n\u001b[0m",
            "\u001b[0;31mTypeError\u001b[0m: maior() missing 2 required positional arguments: 'x' and 'y'"
          ]
        }
      ]
    },
    {
      "cell_type": "code",
      "source": [
        "maior(4,7)# Inseri os ARGUMENTOS corretos, tenho resultado"
      ],
      "metadata": {
        "colab": {
          "base_uri": "https://localhost:8080/"
        },
        "id": "VydZQzGArfeo",
        "outputId": "ac2037dd-ed98-44e5-8529-9e2dae4fe2b8"
      },
      "execution_count": null,
      "outputs": [
        {
          "output_type": "stream",
          "name": "stdout",
          "text": [
            "7\n"
          ]
        }
      ]
    },
    {
      "cell_type": "markdown",
      "source": [
        "## **Escopo das variáveis**\n",
        "\n",
        "Toda variável utilizada dentro de uma função tem escopo local, isto é, ela não será acessível por outras funções ou pelo programa principal. Se houver variável com o mesmo nome fora da função, será uma outra variável, completamente independentes entre si.\n"
      ],
      "metadata": {
        "id": "bgL4yfmhrtM2"
      }
    },
    {
      "cell_type": "code",
      "source": [
        "                                  #Exemplo3\n",
        "def soma(x,y):\n",
        " total = x+y\n",
        " print(\"Total soma = \",total)        "
      ],
      "metadata": {
        "id": "HI3rbNg0ri5X"
      },
      "execution_count": null,
      "outputs": []
    },
    {
      "cell_type": "code",
      "source": [
        "#programa principal\n",
        "total = 10\n",
        "soma(3,5)\n",
        "print(\"Total principal = \",total)"
      ],
      "metadata": {
        "colab": {
          "base_uri": "https://localhost:8080/"
        },
        "id": "GqvxR-67sE14",
        "outputId": "b661993f-cba7-4cf4-92cd-0c2b6525278a"
      },
      "execution_count": null,
      "outputs": [
        {
          "output_type": "stream",
          "name": "stdout",
          "text": [
            "Total soma =  8\n",
            "Total principal =  10\n"
          ]
        }
      ]
    },
    {
      "cell_type": "markdown",
      "source": [
        "Para uma variável ser compartilhada entre diversas funções e o programa principal, ela deve ser definida como variável global.<br> Para isto, utiliza-se a instrução global para declarar a variável em todas as funções para as quais ela deva estar acessível. <br>O mesmo vale para o programa principal."
      ],
      "metadata": {
        "id": "ma7EZjjls2R2"
      }
    },
    {
      "cell_type": "code",
      "source": [
        "                                  #Exemplo4\n",
        "def soma(x,y):\n",
        " global total\n",
        " total = x+y\n",
        " print(\"Total soma = \",total)"
      ],
      "metadata": {
        "id": "UJFfaNd5vpiA"
      },
      "execution_count": null,
      "outputs": []
    },
    {
      "cell_type": "code",
      "source": [
        "#programa principal\n",
        "global total\n",
        "total = 10\n",
        "soma(3,5)\n",
        "print(\"Total principal = \",total)"
      ],
      "metadata": {
        "colab": {
          "base_uri": "https://localhost:8080/"
        },
        "id": "Ft5EGc_0w7qK",
        "outputId": "dd8b1fce-d6b0-4160-c52a-36e8a7d7e997"
      },
      "execution_count": null,
      "outputs": [
        {
          "output_type": "stream",
          "name": "stdout",
          "text": [
            "Total soma =  8\n",
            "Total principal =  8\n"
          ]
        }
      ]
    },
    {
      "cell_type": "markdown",
      "source": [
        "## **Retorno de valores**\n",
        "\n",
        "O comando  `return`  é usado para retornar um valor de uma função e encerrá-la. Caso não seja declarado um valor de retorno, a função retorna o valor `None` (que significa nada, sem valor).\n"
      ],
      "metadata": {
        "id": "_EYqCbHgxN7n"
      }
    },
    {
      "cell_type": "code",
      "source": [
        "                                  #Exemplo1\n",
        "def soma(x,y):\n",
        " total = x+y\n",
        " return total"
      ],
      "metadata": {
        "id": "eMkMpDIeyJS3"
      },
      "execution_count": null,
      "outputs": []
    },
    {
      "cell_type": "code",
      "source": [
        "s=soma(3,5)\n",
        "print(\"soma = \",s)\n"
      ],
      "metadata": {
        "colab": {
          "base_uri": "https://localhost:8080/"
        },
        "id": "uprf01ZayL7A",
        "outputId": "f5803737-3ca1-4959-fa23-bc6f00c6b39c"
      },
      "execution_count": null,
      "outputs": [
        {
          "output_type": "stream",
          "name": "stdout",
          "text": [
            "soma =  8\n"
          ]
        }
      ]
    },
    {
      "cell_type": "markdown",
      "source": [
        "Observações:<br>a) O valor da variável total, calculado na função soma, retornou da função e foi atribuído à variável s.<br>b) O comando após o **return** foi ignorado."
      ],
      "metadata": {
        "id": "mYEXiLZByWqw"
      }
    },
    {
      "cell_type": "markdown",
      "source": [
        "## **Valor padrão**\n",
        "\n",
        "É possível definir um valor padrão para os parâmetros da função. Neste caso, quando o valor é omitido na chamada da função, a variável assume o valor padrão. \n"
      ],
      "metadata": {
        "id": "A83K2W9lyghm"
      }
    },
    {
      "cell_type": "code",
      "source": [
        "                                  #Exemplo1\n",
        "def calcula_juros(valor, taxa=10):\n",
        " juros = valor*taxa/100\n",
        " return juros"
      ],
      "metadata": {
        "id": "G4ghCw80yzCZ"
      },
      "execution_count": null,
      "outputs": []
    },
    {
      "cell_type": "code",
      "source": [
        "calcula_juros(500)"
      ],
      "metadata": {
        "colab": {
          "base_uri": "https://localhost:8080/"
        },
        "id": "j4_g_tA3y6VP",
        "outputId": "429987ac-6b18-48bb-d166-4de872456fbb"
      },
      "execution_count": null,
      "outputs": [
        {
          "output_type": "execute_result",
          "data": {
            "text/plain": [
              "50.0"
            ]
          },
          "metadata": {},
          "execution_count": 23
        }
      ]
    },
    {
      "cell_type": "markdown",
      "source": [
        "\n",
        "\n",
        "##  **DESAFIO PARTE 4**\n",
        "\n",
        "\n",
        "\n",
        "\n"
      ],
      "metadata": {
        "id": "UWaey1OVzBwW"
      }
    },
    {
      "cell_type": "markdown",
      "source": [
        "![image.png](data:image/png;base64,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)"
      ],
      "metadata": {
        "id": "hGOd5OoozMRE"
      }
    },
    {
      "cell_type": "code",
      "source": [
        "                          #1\n",
        "def linha(Tamanho):\n",
        "  for i in range(Tamanho):\n",
        "   print('_')\n",
        "   print(\" \")"
      ],
      "metadata": {
        "id": "GaaYWoanzHrb"
      },
      "execution_count": null,
      "outputs": []
    },
    {
      "cell_type": "code",
      "source": [
        "linha(5)"
      ],
      "metadata": {
        "colab": {
          "base_uri": "https://localhost:8080/"
        },
        "id": "9tvPvF2RzUiM",
        "outputId": "abe195a7-13c3-41d0-b2c1-8b323f547d94"
      },
      "execution_count": null,
      "outputs": [
        {
          "output_type": "stream",
          "name": "stdout",
          "text": [
            "_\n",
            " \n",
            "_\n",
            " \n",
            "_\n",
            " \n",
            "_\n",
            " \n",
            "_\n",
            " \n"
          ]
        }
      ]
    },
    {
      "cell_type": "code",
      "source": [
        "                          #2\n",
        "def imprime_lista(Lista):\n",
        "  contador=0\n",
        "  for valor in Lista:\n",
        "    contador = contador + 1\n",
        "    print(contador,')',valor)\n"
      ],
      "metadata": {
        "id": "Oelc5usrzXuX"
      },
      "execution_count": null,
      "outputs": []
    },
    {
      "cell_type": "code",
      "source": [
        "imprime_lista[5,2,6]"
      ],
      "metadata": {
        "id": "KW_eIYs1znRw",
        "colab": {
          "base_uri": "https://localhost:8080/",
          "height": 165
        },
        "outputId": "3eed5934-79c8-4eb2-9701-93340dc69e69"
      },
      "execution_count": null,
      "outputs": [
        {
          "output_type": "error",
          "ename": "TypeError",
          "evalue": "ignored",
          "traceback": [
            "\u001b[0;31m---------------------------------------------------------------------------\u001b[0m",
            "\u001b[0;31mTypeError\u001b[0m                                 Traceback (most recent call last)",
            "\u001b[0;32m<ipython-input-27-c5fb31b66c5a>\u001b[0m in \u001b[0;36m<module>\u001b[0;34m\u001b[0m\n\u001b[0;32m----> 1\u001b[0;31m \u001b[0mimprime_lista\u001b[0m\u001b[0;34m[\u001b[0m\u001b[0;36m5\u001b[0m\u001b[0;34m,\u001b[0m\u001b[0;36m2\u001b[0m\u001b[0;34m,\u001b[0m\u001b[0;36m6\u001b[0m\u001b[0;34m]\u001b[0m\u001b[0;34m\u001b[0m\u001b[0;34m\u001b[0m\u001b[0m\n\u001b[0m",
            "\u001b[0;31mTypeError\u001b[0m: 'function' object is not subscriptable"
          ]
        }
      ]
    },
    {
      "cell_type": "code",
      "source": [
        "                          #3\n",
        "def media_lista(media):\n",
        "  somador=0\n",
        "  for valor in media:\n",
        "    somador = somador + valor\n",
        "    return somador/len(media)\n",
        "\n",
        "media_lista =(2)"
      ],
      "metadata": {
        "id": "c1SzU6gS09Wn"
      },
      "execution_count": null,
      "outputs": []
    },
    {
      "cell_type": "markdown",
      "source": [
        "4) Escreva uma função que recebe dois parâmetros e imprime o menor dos dois. Se eles forem iguais, imprima que eles são iguais."
      ],
      "metadata": {
        "id": "dja6SNiF8Enn"
      }
    },
    {
      "cell_type": "code",
      "source": [
        "def imprime_menor(a, b):\n",
        "    if a < b:\n",
        "      print(a)\n",
        "    elif a > b:\n",
        "      print(b)\n",
        "    else:\n",
        "      print(\"Os números são iguais.\")\n",
        "\n",
        "imprime_menor(0, 5)\n",
        "imprime_menor(10, 3)\n",
        "imprime_menor(42, 42)"
      ],
      "metadata": {
        "colab": {
          "base_uri": "https://localhost:8080/"
        },
        "id": "TozXs9IX1Q0b",
        "outputId": "93d00984-6865-4169-9591-8fe26626dbb7"
      },
      "execution_count": null,
      "outputs": [
        {
          "output_type": "stream",
          "name": "stdout",
          "text": [
            "0\n",
            "3\n",
            "Os números são iguais.\n"
          ]
        }
      ]
    },
    {
      "cell_type": "markdown",
      "source": [
        "5) Escreva uma função que recebe um número n como parâmetro e imprime se n é positivo ou negativo."
      ],
      "metadata": {
        "id": "T93m4yO18cH0"
      }
    },
    {
      "cell_type": "code",
      "source": [
        "def imprime_sinal(n):\n",
        "    if n < 0:\n",
        "      print(\"Negativo\")\n",
        "    else:\n",
        "      print(\"Positivo\")\n",
        "\n",
        "imprime_sinal(-1)\n",
        "imprime_sinal(5)"
      ],
      "metadata": {
        "colab": {
          "base_uri": "https://localhost:8080/"
        },
        "id": "iNyV33_f8dPi",
        "outputId": "895468aa-8890-4c86-8ccb-3ac8b8b139d3"
      },
      "execution_count": null,
      "outputs": [
        {
          "output_type": "stream",
          "name": "stdout",
          "text": [
            "Negativo\n",
            "Positivo\n"
          ]
        }
      ]
    },
    {
      "cell_type": "markdown",
      "source": [
        "6) Escreva uma função para imprimir o valor absoluto de um número."
      ],
      "metadata": {
        "id": "dZIcjtDo8ivg"
      }
    },
    {
      "cell_type": "code",
      "source": [
        "def imprime_valor_absoluto(n):\n",
        "    if n < 0:\n",
        "      n = -n\n",
        "    print(n)\n",
        "\n",
        "imprime_valor_absoluto(-5)\n",
        "imprime_valor_absoluto(10)\n",
        "imprime_valor_absoluto(-1)"
      ],
      "metadata": {
        "colab": {
          "base_uri": "https://localhost:8080/"
        },
        "id": "-n3_kJa68h03",
        "outputId": "36c7ebf5-08ed-43a4-ea3d-2bca95bc1784"
      },
      "execution_count": null,
      "outputs": [
        {
          "output_type": "stream",
          "name": "stdout",
          "text": [
            "5\n",
            "10\n",
            "1\n"
          ]
        }
      ]
    },
    {
      "cell_type": "markdown",
      "source": [
        "7) Escreva uma função que recebe dois números (a e b) como parâmetro e retorna True caso a soma dos dois seja maior que um terceiro parâmetro, chamado limite."
      ],
      "metadata": {
        "id": "74L2rG6Z8r9F"
      }
    },
    {
      "cell_type": "code",
      "source": [
        "def soma_maior_que_limite(a, b, limite):\n",
        "    if a + b > limite:\n",
        "      return True\n",
        "    else:\n",
        "      return False\n",
        "\n",
        "print(soma_maior_que_limite(10, 6, 15))"
      ],
      "metadata": {
        "colab": {
          "base_uri": "https://localhost:8080/"
        },
        "id": "zuWs1FFL8ut3",
        "outputId": "49dd75db-f69a-46bc-b6ba-7f91ea1316aa"
      },
      "execution_count": null,
      "outputs": [
        {
          "output_type": "stream",
          "name": "stdout",
          "text": [
            "True\n"
          ]
        }
      ]
    },
    {
      "cell_type": "markdown",
      "source": [
        "8) Perceba que a função acima retorna exatamente o resultado da comparação a + b > limite, isto é, se a + b for maior que limite, a função retorna True e caso contrário ela retorna False. Portanto, nossa função poderia ser escrita de forma mais sucinta assim:"
      ],
      "metadata": {
        "id": "JVtqJLXk880l"
      }
    },
    {
      "cell_type": "code",
      "source": [
        "def soma_maior_que_limite_sucinta(a, b, limite):\n",
        "    return a + b > limite\n",
        "\n",
        "print(soma_maior_que_limite_sucinta(10, 6, 15))"
      ],
      "metadata": {
        "colab": {
          "base_uri": "https://localhost:8080/"
        },
        "id": "3v41JoHc8w1o",
        "outputId": "13e69f36-133e-44a6-8130-f02f3a3bd96f"
      },
      "execution_count": null,
      "outputs": [
        {
          "output_type": "stream",
          "name": "stdout",
          "text": [
            "True\n"
          ]
        }
      ]
    },
    {
      "cell_type": "markdown",
      "source": [
        "9) Escreva uma função que recebe um número como parâmetro e para cada número menor que o parâmetro, a função imprime \"Fizz\" se o número for múltiplo de três, imprime \"Buzz\" se o número for múltiplo de cinco, e imprime \"FizzBuzz\" se o número for múltiplo de três e cinco. Caso o número não seja múltiplo nem de três nem de cinco, ele deve ser impresso. Note que, ao contrário das funções anteriores, sua função não deve retornar nada. Ela precisa simplesmente imprimir o que foi pedido."
      ],
      "metadata": {
        "id": "c5kk6y7_9Lsx"
      }
    },
    {
      "cell_type": "code",
      "source": [
        "def fizz_buzz(n):\n",
        "    for num in range(n):\n",
        "        if num % 3 == 0 and num % 5 == 0:\n",
        "            print('FizzBuzz')\n",
        "        elif num % 3 == 0:\n",
        "            print('Fizz')\n",
        "        elif num % 5 == 0:\n",
        "            print('Buzz')\n",
        "        else:\n",
        "            print(num)\n",
        "\n",
        "print(fizz_buzz(16))"
      ],
      "metadata": {
        "colab": {
          "base_uri": "https://localhost:8080/"
        },
        "id": "9ddapybW9Qt8",
        "outputId": "50da25b7-d377-4ed0-f0aa-a341bd2c4de7"
      },
      "execution_count": null,
      "outputs": [
        {
          "output_type": "stream",
          "name": "stdout",
          "text": [
            "FizzBuzz\n",
            "1\n",
            "2\n",
            "Fizz\n",
            "4\n",
            "Buzz\n",
            "Fizz\n",
            "7\n",
            "8\n",
            "Fizz\n",
            "Buzz\n",
            "11\n",
            "Fizz\n",
            "13\n",
            "14\n",
            "FizzBuzz\n",
            "None\n"
          ]
        }
      ]
    },
    {
      "cell_type": "markdown",
      "source": [
        "10) Escreva uma função que, dado um número nota representando a nota de um estudante, converte o valor de nota para um conceito (A, B, C, D, E e F)."
      ],
      "metadata": {
        "id": "D4C8SIc69Xsx"
      }
    },
    {
      "cell_type": "code",
      "source": [
        "def converte_nota_em_conceito(nota):\n",
        "    if nota >= 90:\n",
        "      return \"A\"\n",
        "    elif nota >= 80:\n",
        "      return \"B\"\n",
        "    elif nota >= 70:\n",
        "      return \"C\"\n",
        "    elif nota >= 60:\n",
        "      return \"D\"\n",
        "    elif nota >= 40:\n",
        "      return \"E\"\n",
        "    else:\n",
        "      return \"F\"\n",
        "\n",
        "print(converte_nota_em_conceito(65))"
      ],
      "metadata": {
        "colab": {
          "base_uri": "https://localhost:8080/"
        },
        "id": "Z5WTYKfM9ai3",
        "outputId": "8eae21ab-9ae3-4600-e091-14f9478effd9"
      },
      "execution_count": null,
      "outputs": [
        {
          "output_type": "stream",
          "name": "stdout",
          "text": [
            "D\n"
          ]
        }
      ]
    },
    {
      "cell_type": "markdown",
      "source": [
        "11) Dado um número inteiro,**n**, execute as seguintes ações condicionais:\n",
        "\n",
        "Se **n** é estranho, imprima Weird\n",
        "<br>Se **n** é par e na faixa inclusiva de 2 para 5 , imprimir Not Weird\n",
        "<br>Se **n** é par e na faixa inclusiva de 6 para 20, imprimir Weird\n",
        "<br>Se **n** é par e maior que 20, imprimir Not Weird<br>\n",
        "<br>**Formato de entrada**\n",
        "\n",
        "Uma única linha contendo um inteiro positivo, **n**.\n",
        "\n",
        "**Restrições**<br>\n",
        "- 1 < n < 100*<br>\n",
        "\n",
        "**Formato de saída**\n",
        "\n",
        "Imprima Weird se o número for estranho. Caso contrário, imprima Not Weird.\n",
        "\n",
        "**Entrada de Amostra 0**\n",
        "\n",
        "```\n",
        "3\n",
        "```\n",
        "**Saída de Amostra 0**\n",
        "\n",
        "\n",
        "```\n",
        "Esquisito\n",
        "```\n",
        "**Explicação 0**\n",
        "\n",
        "\n",
        "N = 3 <br>\n",
        "N é ímpar e números ímpares são estranhos, então imprima Weird.\n",
        "\n",
        "**Entrada de Amostra 1**\n",
        "```\n",
        "24\n",
        "```\n",
        "**Saída de Amostra 1**\n",
        "```\n",
        "Não é estranho\n",
        "```\n",
        "**Explicação 1**\n",
        "\n",
        "N = 24 <br>\n",
        "N >20 e N é par, então não é estranho.\n"
      ],
      "metadata": {
        "id": "Yp4W3Zxi9e2L"
      }
    },
    {
      "cell_type": "code",
      "source": [
        "import math\n",
        "import os\n",
        "import random\n",
        "import re\n",
        "import sys\n",
        "n = int(input().strip())\n",
        "\n",
        "if n%2==1:\n",
        "    print(\"Weird\")\n",
        "elif n%2==0 and (n>= 2 and n<6):\n",
        "    print(\"Not Weird\")\n",
        "elif n%2==0 and (n>6 and n<21):\n",
        "    print(\"Weird\")\n",
        "else:\n",
        "    print(\"Not Weird\")"
      ],
      "metadata": {
        "colab": {
          "base_uri": "https://localhost:8080/"
        },
        "id": "UybDmQY17HxJ",
        "outputId": "5fd1a142-ce87-45c0-bcf5-1cbd84c38ae0"
      },
      "execution_count": null,
      "outputs": [
        {
          "output_type": "stream",
          "name": "stdout",
          "text": [
            "5\n",
            "Weird\n"
          ]
        }
      ]
    },
    {
      "cell_type": "markdown",
      "source": [
        " https://www.hackerrank.com/challenges/python-arithmetic-operators/problem  <br>\n",
        "12) Tarefa\n",
        "O stub de código fornecido lê dois inteiros de STDIN,*A* e *B*. Adicione código para imprimir três linhas onde:\n",
        "\n",
        "1) A primeira linha contém a soma dos dois números.<br>\n",
        "2) A segunda linha contém a diferença dos dois números (primeiro - segundo).<br>\n",
        "3) A terceira linha contém o produto dos dois números.<br>\n",
        "**Exemplo**<br>\n",
        "a = 3\n",
        "b = 5\n",
        "\n",
        "Imprima o seguinte:\n",
        "\n",
        "```\n",
        "8\n",
        "-2\n",
        "15\n",
        "\n",
        "```\n",
        "**Formato de entrada**\n",
        "\n",
        "A primeira linha contém o primeiro inteiro,a.<br>\n",
        "A segunda linha contém o segundo inteiro,b.<br>\n",
        "\n",
        "**Restrições**\n",
        "![image.png](data:image/png;base64,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)\n",
        "\n",
        "\n",
        "**Formato de saída**\n",
        "\n",
        "Imprima as três linhas como explicado acima.\n",
        "\n",
        "**Entrada de Amostra 0**\n",
        "\n",
        "```\n",
        "3 \n",
        "2\n",
        "```\n",
        "**Saída de Amostra 0**\n",
        "```\n",
        "5 \n",
        "1 \n",
        "6\n",
        "```"
      ],
      "metadata": {
        "id": "H_96QJIW8g5q"
      }
    },
    {
      "cell_type": "code",
      "source": [
        "if __name__ == '__main__':\n",
        "  a = int(input())\n",
        "  b = int(input())\n",
        "  addition = a+b\n",
        "  subtraction = a-b\n",
        "  multiplication = a*b\n",
        "  print(addition)\n",
        "  print(subtraction)\n",
        "  print(multiplication)"
      ],
      "metadata": {
        "colab": {
          "base_uri": "https://localhost:8080/",
          "height": 536
        },
        "id": "7sNtwRRc8fgl",
        "outputId": "2f5515ee-bcb1-4e40-8bff-be918dbeb147"
      },
      "execution_count": null,
      "outputs": [
        {
          "output_type": "error",
          "ename": "KeyboardInterrupt",
          "evalue": "ignored",
          "traceback": [
            "\u001b[0;31m---------------------------------------------------------------------------\u001b[0m",
            "\u001b[0;31mKeyboardInterrupt\u001b[0m                         Traceback (most recent call last)",
            "\u001b[0;32m/usr/local/lib/python3.7/dist-packages/ipykernel/kernelbase.py\u001b[0m in \u001b[0;36m_input_request\u001b[0;34m(self, prompt, ident, parent, password)\u001b[0m\n\u001b[1;32m    728\u001b[0m             \u001b[0;32mtry\u001b[0m\u001b[0;34m:\u001b[0m\u001b[0;34m\u001b[0m\u001b[0;34m\u001b[0m\u001b[0m\n\u001b[0;32m--> 729\u001b[0;31m                 \u001b[0mident\u001b[0m\u001b[0;34m,\u001b[0m \u001b[0mreply\u001b[0m \u001b[0;34m=\u001b[0m \u001b[0mself\u001b[0m\u001b[0;34m.\u001b[0m\u001b[0msession\u001b[0m\u001b[0;34m.\u001b[0m\u001b[0mrecv\u001b[0m\u001b[0;34m(\u001b[0m\u001b[0mself\u001b[0m\u001b[0;34m.\u001b[0m\u001b[0mstdin_socket\u001b[0m\u001b[0;34m,\u001b[0m \u001b[0;36m0\u001b[0m\u001b[0;34m)\u001b[0m\u001b[0;34m\u001b[0m\u001b[0;34m\u001b[0m\u001b[0m\n\u001b[0m\u001b[1;32m    730\u001b[0m             \u001b[0;32mexcept\u001b[0m \u001b[0mException\u001b[0m\u001b[0;34m:\u001b[0m\u001b[0;34m\u001b[0m\u001b[0;34m\u001b[0m\u001b[0m\n",
            "\u001b[0;32m/usr/local/lib/python3.7/dist-packages/jupyter_client/session.py\u001b[0m in \u001b[0;36mrecv\u001b[0;34m(self, socket, mode, content, copy)\u001b[0m\n\u001b[1;32m    802\u001b[0m         \u001b[0;32mtry\u001b[0m\u001b[0;34m:\u001b[0m\u001b[0;34m\u001b[0m\u001b[0;34m\u001b[0m\u001b[0m\n\u001b[0;32m--> 803\u001b[0;31m             \u001b[0mmsg_list\u001b[0m \u001b[0;34m=\u001b[0m \u001b[0msocket\u001b[0m\u001b[0;34m.\u001b[0m\u001b[0mrecv_multipart\u001b[0m\u001b[0;34m(\u001b[0m\u001b[0mmode\u001b[0m\u001b[0;34m,\u001b[0m \u001b[0mcopy\u001b[0m\u001b[0;34m=\u001b[0m\u001b[0mcopy\u001b[0m\u001b[0;34m)\u001b[0m\u001b[0;34m\u001b[0m\u001b[0;34m\u001b[0m\u001b[0m\n\u001b[0m\u001b[1;32m    804\u001b[0m         \u001b[0;32mexcept\u001b[0m \u001b[0mzmq\u001b[0m\u001b[0;34m.\u001b[0m\u001b[0mZMQError\u001b[0m \u001b[0;32mas\u001b[0m \u001b[0me\u001b[0m\u001b[0;34m:\u001b[0m\u001b[0;34m\u001b[0m\u001b[0;34m\u001b[0m\u001b[0m\n",
            "\u001b[0;32m/usr/local/lib/python3.7/dist-packages/zmq/sugar/socket.py\u001b[0m in \u001b[0;36mrecv_multipart\u001b[0;34m(self, flags, copy, track)\u001b[0m\n\u001b[1;32m    726\u001b[0m         \"\"\"\n\u001b[0;32m--> 727\u001b[0;31m         \u001b[0mparts\u001b[0m \u001b[0;34m=\u001b[0m \u001b[0;34m[\u001b[0m\u001b[0mself\u001b[0m\u001b[0;34m.\u001b[0m\u001b[0mrecv\u001b[0m\u001b[0;34m(\u001b[0m\u001b[0mflags\u001b[0m\u001b[0;34m,\u001b[0m \u001b[0mcopy\u001b[0m\u001b[0;34m=\u001b[0m\u001b[0mcopy\u001b[0m\u001b[0;34m,\u001b[0m \u001b[0mtrack\u001b[0m\u001b[0;34m=\u001b[0m\u001b[0mtrack\u001b[0m\u001b[0;34m)\u001b[0m\u001b[0;34m]\u001b[0m\u001b[0;34m\u001b[0m\u001b[0;34m\u001b[0m\u001b[0m\n\u001b[0m\u001b[1;32m    728\u001b[0m         \u001b[0;31m# have first part already, only loop while more to receive\u001b[0m\u001b[0;34m\u001b[0m\u001b[0;34m\u001b[0m\u001b[0;34m\u001b[0m\u001b[0m\n",
            "\u001b[0;32mzmq/backend/cython/socket.pyx\u001b[0m in \u001b[0;36mzmq.backend.cython.socket.Socket.recv\u001b[0;34m()\u001b[0m\n",
            "\u001b[0;32mzmq/backend/cython/socket.pyx\u001b[0m in \u001b[0;36mzmq.backend.cython.socket.Socket.recv\u001b[0;34m()\u001b[0m\n",
            "\u001b[0;32mzmq/backend/cython/socket.pyx\u001b[0m in \u001b[0;36mzmq.backend.cython.socket._recv_copy\u001b[0;34m()\u001b[0m\n",
            "\u001b[0;32m/usr/local/lib/python3.7/dist-packages/zmq/backend/cython/checkrc.pxd\u001b[0m in \u001b[0;36mzmq.backend.cython.checkrc._check_rc\u001b[0;34m()\u001b[0m\n",
            "\u001b[0;31mKeyboardInterrupt\u001b[0m: ",
            "\nDuring handling of the above exception, another exception occurred:\n",
            "\u001b[0;31mKeyboardInterrupt\u001b[0m                         Traceback (most recent call last)",
            "\u001b[0;32m<ipython-input-1-44246826b731>\u001b[0m in \u001b[0;36m<module>\u001b[0;34m()\u001b[0m\n\u001b[1;32m      1\u001b[0m \u001b[0;32mif\u001b[0m \u001b[0m__name__\u001b[0m \u001b[0;34m==\u001b[0m \u001b[0;34m'__main__'\u001b[0m\u001b[0;34m:\u001b[0m\u001b[0;34m\u001b[0m\u001b[0;34m\u001b[0m\u001b[0m\n\u001b[0;32m----> 2\u001b[0;31m   \u001b[0ma\u001b[0m \u001b[0;34m=\u001b[0m \u001b[0mint\u001b[0m\u001b[0;34m(\u001b[0m\u001b[0minput\u001b[0m\u001b[0;34m(\u001b[0m\u001b[0;34m)\u001b[0m\u001b[0;34m)\u001b[0m\u001b[0;34m\u001b[0m\u001b[0;34m\u001b[0m\u001b[0m\n\u001b[0m\u001b[1;32m      3\u001b[0m   \u001b[0mb\u001b[0m \u001b[0;34m=\u001b[0m \u001b[0mint\u001b[0m\u001b[0;34m(\u001b[0m\u001b[0minput\u001b[0m\u001b[0;34m(\u001b[0m\u001b[0;34m)\u001b[0m\u001b[0;34m)\u001b[0m\u001b[0;34m\u001b[0m\u001b[0;34m\u001b[0m\u001b[0m\n\u001b[1;32m      4\u001b[0m   \u001b[0maddition\u001b[0m \u001b[0;34m=\u001b[0m \u001b[0ma\u001b[0m\u001b[0;34m+\u001b[0m\u001b[0mb\u001b[0m\u001b[0;34m\u001b[0m\u001b[0;34m\u001b[0m\u001b[0m\n\u001b[1;32m      5\u001b[0m   \u001b[0msubtraction\u001b[0m \u001b[0;34m=\u001b[0m \u001b[0ma\u001b[0m\u001b[0;34m-\u001b[0m\u001b[0mb\u001b[0m\u001b[0;34m\u001b[0m\u001b[0;34m\u001b[0m\u001b[0m\n",
            "\u001b[0;32m/usr/local/lib/python3.7/dist-packages/ipykernel/kernelbase.py\u001b[0m in \u001b[0;36mraw_input\u001b[0;34m(self, prompt)\u001b[0m\n\u001b[1;32m    702\u001b[0m             \u001b[0mself\u001b[0m\u001b[0;34m.\u001b[0m\u001b[0m_parent_ident\u001b[0m\u001b[0;34m,\u001b[0m\u001b[0;34m\u001b[0m\u001b[0;34m\u001b[0m\u001b[0m\n\u001b[1;32m    703\u001b[0m             \u001b[0mself\u001b[0m\u001b[0;34m.\u001b[0m\u001b[0m_parent_header\u001b[0m\u001b[0;34m,\u001b[0m\u001b[0;34m\u001b[0m\u001b[0;34m\u001b[0m\u001b[0m\n\u001b[0;32m--> 704\u001b[0;31m             \u001b[0mpassword\u001b[0m\u001b[0;34m=\u001b[0m\u001b[0;32mFalse\u001b[0m\u001b[0;34m,\u001b[0m\u001b[0;34m\u001b[0m\u001b[0;34m\u001b[0m\u001b[0m\n\u001b[0m\u001b[1;32m    705\u001b[0m         )\n\u001b[1;32m    706\u001b[0m \u001b[0;34m\u001b[0m\u001b[0m\n",
            "\u001b[0;32m/usr/local/lib/python3.7/dist-packages/ipykernel/kernelbase.py\u001b[0m in \u001b[0;36m_input_request\u001b[0;34m(self, prompt, ident, parent, password)\u001b[0m\n\u001b[1;32m    732\u001b[0m             \u001b[0;32mexcept\u001b[0m \u001b[0mKeyboardInterrupt\u001b[0m\u001b[0;34m:\u001b[0m\u001b[0;34m\u001b[0m\u001b[0;34m\u001b[0m\u001b[0m\n\u001b[1;32m    733\u001b[0m                 \u001b[0;31m# re-raise KeyboardInterrupt, to truncate traceback\u001b[0m\u001b[0;34m\u001b[0m\u001b[0;34m\u001b[0m\u001b[0;34m\u001b[0m\u001b[0m\n\u001b[0;32m--> 734\u001b[0;31m                 \u001b[0;32mraise\u001b[0m \u001b[0mKeyboardInterrupt\u001b[0m\u001b[0;34m\u001b[0m\u001b[0;34m\u001b[0m\u001b[0m\n\u001b[0m\u001b[1;32m    735\u001b[0m             \u001b[0;32melse\u001b[0m\u001b[0;34m:\u001b[0m\u001b[0;34m\u001b[0m\u001b[0;34m\u001b[0m\u001b[0m\n\u001b[1;32m    736\u001b[0m                 \u001b[0;32mbreak\u001b[0m\u001b[0;34m\u001b[0m\u001b[0;34m\u001b[0m\u001b[0m\n",
            "\u001b[0;31mKeyboardInterrupt\u001b[0m: "
          ]
        }
      ]
    },
    {
      "cell_type": "markdown",
      "source": [
        "13) Given a non-empty array of integers, return the result of multiplying the values together in order. Example:\n",
        "\n",
        "Tradução: \n",
        "\n",
        "Dado um array não vazio de inteiros, retorne o resultado da multiplicação dos valores juntos em ordem. Exemplo:\n",
        "\n",
        "\n",
        "```\n",
        "[1, 2, 3, 4] => 1 * 2 * 3 * 4 = 24\n",
        "\n",
        "```\n",
        "\n"
      ],
      "metadata": {
        "id": "SF-W70MewrDr"
      }
    },
    {
      "cell_type": "code",
      "source": [
        "def result(list):\n",
        "  multip = 1 #big(o): constante\n",
        "  for numero in list: #big(o): variavel\n",
        "    multip = multip * numero #big(o): variavel\n",
        "    return multip #big(o): constante"
      ],
      "metadata": {
        "id": "nL-OyQVUw4jQ"
      },
      "execution_count": null,
      "outputs": []
    },
    {
      "cell_type": "markdown",
      "source": [
        "13) Write a program that finds the summation of every number from 1 to num. The number will always be a positive integer greater than 0.\n",
        "\n",
        "For example:\n",
        "\n",
        "\n",
        "```\n",
        "summation(2) -> 3\n",
        "1 + 2\n",
        "\n",
        "summation(8) -> 36\n",
        "1 + 2 + 3 + 4 + 5 + 6 + 7 + 8\n",
        "```\n",
        "\n",
        "Tradução: \n",
        "escreva um programa que encontre a soma de todos os números de 1 a num. O número será sempre um número inteiro positivo maior que 0."
      ],
      "metadata": {
        "id": "SRyt_ldkKl5P"
      }
    },
    {
      "cell_type": "code",
      "source": [
        "def soma(num):\n",
        "  lista_temporaria = []\n",
        "  for numero in range(1, num+1):\n",
        "    lista_temporaria.append(numero)\n",
        "  return sum(lista_temporaria)"
      ],
      "metadata": {
        "id": "b3VpRbKcNYrI"
      },
      "execution_count": null,
      "outputs": []
    },
    {
      "cell_type": "code",
      "source": [
        "soma(8)"
      ],
      "metadata": {
        "colab": {
          "base_uri": "https://localhost:8080/"
        },
        "id": "usuqfvLcUH5m",
        "outputId": "33ae9419-1a16-4e77-8ff1-cf3f2ad1cd9e"
      },
      "execution_count": null,
      "outputs": [
        {
          "output_type": "execute_result",
          "data": {
            "text/plain": [
              "36"
            ]
          },
          "metadata": {},
          "execution_count": 128
        }
      ]
    },
    {
      "cell_type": "markdown",
      "source": [
        "14) **resova utilizando deep first search e breadth first search**<br>\n",
        "\n",
        " ![image.png](data:image/png;base64,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)"
      ],
      "metadata": {
        "id": "LJy9wL-HZIxP"
      }
    },
    {
      "cell_type": "code",
      "source": [
        "            #Deep First Search(buscar os itens na sua profundidade)\n",
        " #vamos trabalhar com recursividade(função chamar ela mesma). Então precisaremos abordar nos fazer duas perguntas: 1-quando a função vai parar? 2- quando a função vai chamar ela mesma?\n",
        "def comparacao(arvore1, arvore2):\n",
        "  if arvore1 is none or arvore2 is none:#quando chamar?\n",
        "    if arvore1 == arvore2:\n",
        "      return True\n",
        "  return False\n",
        "  if arvore1.value == arvore2.value: #quando encerrar?\n",
        "    return comparacao(arvore1.left, arvore2.left) and (arvore1.right, arvore2.right)#aqui entra a recursividade. Vamos chamar a função novamente\n",
        "    return False"
      ],
      "metadata": {
        "id": "62VjXbwcZGIy"
      },
      "execution_count": 11,
      "outputs": []
    },
    {
      "cell_type": "code",
      "source": [
        " #Breadth First Search(busca por niveis)\n",
        "def solution(arvore1, arvore2):\n",
        "  queue = [(arvore1, arvore2)]# 1adiciona os itens principais da nossa lista. Valor 1 na arvore 1 e valor 1 na arvore 2\n",
        "  \n",
        "  while queue:# 2 enquanto existir algum item dentro da nossa queue, vamos pegar o primeiro item.\n",
        "    arv1, arv2 = queue.pop(0)# 3 pop() é uma função embutida no Python que remove e retorna o último valor da lista ou o valor de índice fornecido.\n",
        "    \n",
        "    if arv1 is none or arv2 is none:# verificação dos itens nulos\n",
        "      if arv1 == arv2:# Os dois tem que ser nulos\n",
        "        continue#senao for nulo, volta para o while\n",
        "      return False# caso um seja nulo e outro não\n",
        "      \n",
        "    if arv1.value != arv2.value:# vamos fazer a verificação se o valores das duas arvores são iguais ou não\n",
        "      return False# valores diferentes\n",
        "    #ja que está tudo ok, vamos adicionar os filhos(valores correspondentes em cada item da arvore)  \n",
        "    queue.append((arv1.left, arv2.left)) #append insere um registro após o último elemento, ou seja, ele é útil quando é preciso colocar o novo registro na última posição da tabela.\n",
        "    queue.append((arv1.right, arv2. right))#append insere um registro após o último elemento, ou seja, ele é útil quando é preciso colocar o novo registro na última posição da tabela.\n",
        "  return True"
      ],
      "metadata": {
        "id": "srW3Qcx-xSJC"
      },
      "execution_count": 21,
      "outputs": []
    },
    {
      "cell_type": "code",
      "source": [
        ""
      ],
      "metadata": {
        "id": "bWEsiDbbULYP"
      },
      "execution_count": null,
      "outputs": []
    }
  ]
}